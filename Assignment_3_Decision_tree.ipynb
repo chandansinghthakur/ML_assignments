{
  "nbformat": 4,
  "nbformat_minor": 0,
  "metadata": {
    "colab": {
      "provenance": [],
      "authorship_tag": "ABX9TyNxfMildKAdDNWFnJ9s9lwJ",
      "include_colab_link": true
    },
    "kernelspec": {
      "name": "python3",
      "display_name": "Python 3"
    },
    "language_info": {
      "name": "python"
    }
  },
  "cells": [
    {
      "cell_type": "markdown",
      "metadata": {
        "id": "view-in-github",
        "colab_type": "text"
      },
      "source": [
        "<a href=\"https://colab.research.google.com/github/chandansinghthakur/ML_assignments/blob/main/Assignment_3_Decision_tree.ipynb\" target=\"_parent\"><img src=\"https://colab.research.google.com/assets/colab-badge.svg\" alt=\"Open In Colab\"/></a>"
      ]
    },
    {
      "cell_type": "markdown",
      "source": [
        "# **Assignment_Decision_tree**\n",
        "\n",
        "Predicting Survival in the Titanic Data Set\n",
        "\n",
        "We will be using a decision tree to make predictions about the Titanic data\n",
        "set from Kaggle. This data set provides information on the Titanic\n",
        "passengers and can be used to predict whether a passenger survived or\n",
        "not.\n",
        "\n",
        "Loading Data and modules\n",
        "\n",
        "import numpy as np\n",
        "import pandas as pd\n",
        "import seaborn as sb\n",
        "import matplotlib.pyplot as plt\n",
        "import sklearn\n",
        "from pandas import Series, DataFrame\n",
        "from pylab import rcParams\n",
        "from sklearn import preprocessing\n",
        "from sklearn.linear_model import LogisticRegression\n",
        "from sklearn.cross_validation import train_test_split\n",
        "from sklearn import metrics\n",
        "from sklearn.metrics import classification_report\n",
        "\n",
        "Url = https://raw.githubusercontent.com/BigDataGal/Python-for-Data-\n",
        "Science/master/titanic-train.csv\n",
        "\n",
        "titanic = pd.read_csv(url)\n",
        "\n",
        "titanic.columns =\n",
        "['PassengerId','Survived','Pclass','Name','Sex','Age','SibSp','Parch','Ti\n",
        "cket','Fare','Cabin','E mbarked']\n",
        "\n",
        "You use only Pclass, Sex, Age, SibSp (Siblings aboard), Parch\n",
        "(Parents/children aboard), and Fare to predict whether a passenger\n",
        "survived.\n",
        "\n",
        "Task: Deploy this assignment in any cloud platform.(Try to look for free cloud platform)\n",
        "\n",
        "Assignment: Submit assignment’s deployable link only.\n"
      ],
      "metadata": {
        "id": "C3k_VKmgXRUA"
      }
    },
    {
      "cell_type": "code",
      "execution_count": null,
      "metadata": {
        "id": "kdUpO6j0XFfU"
      },
      "outputs": [],
      "source": []
    },
    {
      "cell_type": "markdown",
      "source": [],
      "metadata": {
        "id": "CCgMK1cpXQQC"
      }
    }
  ]
}